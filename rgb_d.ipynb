{
  "nbformat": 4,
  "nbformat_minor": 0,
  "metadata": {
    "colab": {
      "provenance": [],
      "authorship_tag": "ABX9TyO/+DLOpOGDGigxJG5HDDq0",
      "include_colab_link": true
    },
    "kernelspec": {
      "name": "python3",
      "display_name": "Python 3"
    },
    "language_info": {
      "name": "python"
    }
  },
  "cells": [
    {
      "cell_type": "markdown",
      "metadata": {
        "id": "view-in-github",
        "colab_type": "text"
      },
      "source": [
        "<a href=\"https://colab.research.google.com/github/vinayakap/OpenCV/blob/main/rgb_d.ipynb\" target=\"_parent\"><img src=\"https://colab.research.google.com/assets/colab-badge.svg\" alt=\"Open In Colab\"/></a>"
      ]
    },
    {
      "cell_type": "code",
      "execution_count": null,
      "metadata": {
        "id": "-uTs6Xzhwr-u"
      },
      "outputs": [],
      "source": [
        "pip install open3d"
      ]
    },
    {
      "cell_type": "code",
      "source": [
        "import open3d as o3d"
      ],
      "metadata": {
        "id": "4pEmY4q_xbFy"
      },
      "execution_count": null,
      "outputs": []
    },
    {
      "cell_type": "code",
      "source": [
        "color_raw = o3d.io.read_image('color.png')\n",
        "depth_raw = o3d.io.read_image('depth.png')\n",
        "semseg = o3d.io.read_image('semseg.png')\n",
        "rgbd_image = o3d.geometry.RGBDImage.create_from_color_and_depth(color_raw, depth_raw)\n",
        "print(rgbd_image)"
      ],
      "metadata": {
        "colab": {
          "base_uri": "https://localhost:8080/"
        },
        "id": "JyiUrcj0yPcU",
        "outputId": "11b89c1d-386f-4c4c-bf3f-fd15b0ee1dfc"
      },
      "execution_count": null,
      "outputs": [
        {
          "output_type": "stream",
          "name": "stdout",
          "text": [
            "RGBDImage of size \n",
            "Color image : 1920x1080, with 1 channels.\n",
            "Depth image : 1920x1080, with 1 channels.\n",
            "Use numpy.asarray to access buffer data.\n"
          ]
        }
      ]
    },
    {
      "cell_type": "code",
      "source": [
        "import matplotlib.pyplot as plt"
      ],
      "metadata": {
        "id": "X-q2dZ4Ey8dX"
      },
      "execution_count": null,
      "outputs": []
    },
    {
      "cell_type": "code",
      "source": [
        "plt.subplot(1,2,1)\n",
        "plt.title('grey')\n",
        "plt.imshow(rgbd_image.color)\n",
        "plt.subplot(1,2,2)\n",
        "plt.title('depth')\n",
        "plt.imshow(rgbd_image.depth)\n",
        "plt."
      ],
      "metadata": {
        "id": "kvqMYf4MzH2v"
      },
      "execution_count": null,
      "outputs": []
    }
  ]
}